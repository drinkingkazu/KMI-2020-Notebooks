{
 "cells": [
  {
   "cell_type": "markdown",
   "metadata": {},
   "source": [
    "# Pytorch Introduction\n",
    "In this notebook we get used to simple tensor (matrix) operations and the workflow of training a machine learning algorithms in Pytorch.\n",
    "## Goals:\n",
    "* Learn how to create `torch.Tensor`.\n",
    "* Play with `torch.Tensor` in simple matrix operations and GPU compute.\n",
    "* Re-implement a linear regression using Pytorch\n",
    "\n",
    "In `pytorch`, we use `torch.Tensor` object to represent data matrix. It is a lot like `numpy` array but not quite the same. `torch` provide APIs to easily convert data between `numpy` array and `torch.Tensor`. Let's play a little bit."
   ]
  },
  {
   "cell_type": "code",
   "execution_count": 1,
   "metadata": {},
   "outputs": [],
   "source": [
    "from __future__ import print_function\n",
    "import numpy as np\n",
    "import torch"
   ]
  },
  {
   "cell_type": "markdown",
   "metadata": {},
   "source": [
    "## Creating a `torch.Tensor`\n",
    "\n",
    "Converting a numpy into `torch.Tensor` can be done by a constructor. Bringing it back into `numpy` array is also a simple `numpy()` function call. The `torch.Tensor` constructor takes any _python array-like_ objects (of the same types), so we can also construct from a list of integers."
   ]
  },
  {
   "cell_type": "code",
   "execution_count": 2,
   "metadata": {},
   "outputs": [
    {
     "name": "stdout",
     "output_type": "stream",
     "text": [
      "Numpy data\n",
      " [[1. 0. 0. 0. 0. 0. 0. 0. 0. 0.]\n",
      " [0. 1. 0. 0. 0. 0. 0. 0. 0. 0.]\n",
      " [0. 0. 1. 0. 0. 0. 0. 0. 0. 0.]\n",
      " [0. 0. 0. 1. 0. 0. 0. 0. 0. 0.]\n",
      " [0. 0. 0. 0. 1. 0. 0. 0. 0. 0.]\n",
      " [0. 0. 0. 0. 0. 1. 0. 0. 0. 0.]\n",
      " [0. 0. 0. 0. 0. 0. 1. 0. 0. 0.]\n",
      " [0. 0. 0. 0. 0. 0. 0. 1. 0. 0.]\n",
      " [0. 0. 0. 0. 0. 0. 0. 0. 1. 0.]\n",
      " [0. 0. 0. 0. 0. 0. 0. 0. 0. 1.]]\n",
      "\n",
      "torch.Tensor data\n",
      " tensor([[1., 0., 0., 0., 0., 0., 0., 0., 0., 0.],\n",
      "        [0., 1., 0., 0., 0., 0., 0., 0., 0., 0.],\n",
      "        [0., 0., 1., 0., 0., 0., 0., 0., 0., 0.],\n",
      "        [0., 0., 0., 1., 0., 0., 0., 0., 0., 0.],\n",
      "        [0., 0., 0., 0., 1., 0., 0., 0., 0., 0.],\n",
      "        [0., 0., 0., 0., 0., 1., 0., 0., 0., 0.],\n",
      "        [0., 0., 0., 0., 0., 0., 1., 0., 0., 0.],\n",
      "        [0., 0., 0., 0., 0., 0., 0., 1., 0., 0.],\n",
      "        [0., 0., 0., 0., 0., 0., 0., 0., 1., 0.],\n",
      "        [0., 0., 0., 0., 0., 0., 0., 0., 0., 1.]])\n",
      "\n",
      "Numpy data (converted back from torch.Tensor)\n",
      " [[1. 0. 0. 0. 0. 0. 0. 0. 0. 0.]\n",
      " [0. 1. 0. 0. 0. 0. 0. 0. 0. 0.]\n",
      " [0. 0. 1. 0. 0. 0. 0. 0. 0. 0.]\n",
      " [0. 0. 0. 1. 0. 0. 0. 0. 0. 0.]\n",
      " [0. 0. 0. 0. 1. 0. 0. 0. 0. 0.]\n",
      " [0. 0. 0. 0. 0. 1. 0. 0. 0. 0.]\n",
      " [0. 0. 0. 0. 0. 0. 1. 0. 0. 0.]\n",
      " [0. 0. 0. 0. 0. 0. 0. 1. 0. 0.]\n",
      " [0. 0. 0. 0. 0. 0. 0. 0. 1. 0.]\n",
      " [0. 0. 0. 0. 0. 0. 0. 0. 0. 1.]]\n",
      "\n",
      "Python list : [1, 2, 3]\n",
      "torch.Tensor: tensor([1., 2., 3.])\n"
     ]
    }
   ],
   "source": [
    "# Create numpy array\n",
    "data_np = np.zeros([10,10],dtype=np.float32)\n",
    "\n",
    "# Fill something\n",
    "np.fill_diagonal(data_np,1.)\n",
    "print('Numpy data\\n',data_np)\n",
    "\n",
    "# Create torch.Tensor\n",
    "data_torch = torch.Tensor(data_np)\n",
    "print('\\ntorch.Tensor data\\n',data_torch)\n",
    "\n",
    "# Bringing back into numpy array\n",
    "data_np = data_torch.numpy()\n",
    "print('\\nNumpy data (converted back from torch.Tensor)\\n',data_np)\n",
    "\n",
    "# One can make also from a list\n",
    "data_list = [1,2,3]\n",
    "data_list_torch = torch.Tensor(data_list)\n",
    "print('\\nPython list :',data_list)\n",
    "print('torch.Tensor:',data_list_torch)"
   ]
  },
  {
   "cell_type": "markdown",
   "metadata": {},
   "source": [
    "## Operations on `torch.Tensor`\n",
    "Ordinary operations to an array also exists like `numpy`. A single scalar value can be extracted using a function `item()`. "
   ]
  },
  {
   "cell_type": "code",
   "execution_count": 3,
   "metadata": {},
   "outputs": [
    {
     "name": "stdout",
     "output_type": "stream",
     "text": [
      "mean 0.10000000149011612 std 0.30151134729385376 sum 10.0\n"
     ]
    }
   ],
   "source": [
    "# mean & std\n",
    "print('mean',data_torch.mean().item(),'std',data_torch.std().item(),'sum',data_torch.sum().item())"
   ]
  },
  {
   "cell_type": "markdown",
   "metadata": {},
   "source": [
    "Common operations include element-wise multiplication, matrix multiplication, and reshaping. Read the [documentation](https://pytorch.org/docs/stable/tensors.html) to find the right function for what you want to do!"
   ]
  },
  {
   "cell_type": "code",
   "execution_count": 4,
   "metadata": {},
   "outputs": [
    {
     "name": "stdout",
     "output_type": "stream",
     "text": [
      "Two numpy matrices\n",
      "[[1. 0. 0.]\n",
      " [0. 1. 0.]\n",
      " [0. 0. 1.]]\n",
      "[[1. 1. 1.]\n",
      " [0. 0. 0.]\n",
      " [0. 0. 0.]] \n",
      "\n",
      "torch.Tensor element-wise multiplication:\n",
      "tensor([[1., 0., 0.],\n",
      "        [0., 0., 0.],\n",
      "        [0., 0., 0.]])\n",
      "\n",
      "torch.Tensor matrix multiplication:\n",
      "tensor([[1., 1., 1.],\n",
      "        [0., 0., 0.],\n",
      "        [0., 0., 0.]])\n"
     ]
    }
   ],
   "source": [
    "# Two matrices \n",
    "data_a = np.zeros([3,3],dtype=np.float32)\n",
    "data_b = np.zeros([3,3],dtype=np.float32)\n",
    "np.fill_diagonal(data_a,1.)\n",
    "data_b[0,:]=1.\n",
    "# print them\n",
    "print('Two numpy matrices')\n",
    "print(data_a)\n",
    "print(data_b,'\\n')\n",
    "\n",
    "# Make torch.Tensor\n",
    "torch_a = torch.Tensor(data_a)\n",
    "torch_b = torch.Tensor(data_b)\n",
    "print('torch.Tensor element-wise multiplication:')\n",
    "print(torch_a*torch_b)\n",
    "print('\\ntorch.Tensor matrix multiplication:')\n",
    "print(torch_a.matmul(torch_b))"
   ]
  },
  {
   "cell_type": "markdown",
   "metadata": {},
   "source": [
    "## Compute `torch.Tensor` on a GPU\n",
    "\n",
    "Putting `torch.Tensor` on GPU is as easy as calling `.cuda()` function (and if you want to bring it back to cpu, call `.cpu()` on a `cuda.Tensor`). Let's do a simple speed comparison!"
   ]
  },
  {
   "cell_type": "code",
   "execution_count": 5,
   "metadata": {},
   "outputs": [
    {
     "name": "stdout",
     "output_type": "stream",
     "text": [
      "Using CPU: 0.06822323799133301 [s]\n",
      "Using GPU: 0.004759788513183594 [s]\n"
     ]
    }
   ],
   "source": [
    "# Create 10000x10000 matrix\n",
    "data_np=np.zeros([10000,10000],dtype=np.float32)\n",
    "data_cpu = torch.Tensor(data_np).cpu()\n",
    "data_gpu = torch.Tensor(data_np).cuda()\n",
    "\n",
    "# Compute time in CPU\n",
    "import time\n",
    "t0=time.time()\n",
    "mean = (data_cpu * data_cpu).mean().item()\n",
    "print('Using CPU:',time.time()-t0,'[s]')\n",
    "\n",
    "# Compute time in GPU\n",
    "t0=time.time()\n",
    "mean = (data_gpu * data_gpu).mean().item()\n",
    "print('Using GPU:',time.time()-t0,'[s]')\n"
   ]
  },
  {
   "cell_type": "markdown",
   "metadata": {},
   "source": [
    "Using, GPU, we get more than x10 acceleration :) Play with `torch.Tensor`. \n",
    "\n",
    "## Linear Regression using Torch\n",
    "\n",
    "Besides supporting GPUs for tensor calculation, Pytorch (and other machine learning libraries like Tensorflow, MXNet, etc.) implements powerful features such as `autograd`, an automated gradient calculation. We practice a linear regression again below, but this time using Pytorch.\n",
    "\n",
    "First, let's create the data sample to play with."
   ]
  },
  {
   "cell_type": "code",
   "execution_count": 6,
   "metadata": {},
   "outputs": [
    {
     "data": {
      "image/png": "[encoded data removed]",
      "text/plain": [
       "<Figure size 864x576 with 1 Axes>"
      ]
     },
     "metadata": {},
     "output_type": "display_data"
    }
   ],
   "source": [
    "from kmi.iotools.fake_data import linear_regression\n",
    "\n",
    "a,b=1.5,0.5\n",
    "x,y=linear_regression(a,b,num_sample=1000)\n",
    "\n",
    "import matplotlib.pyplot as plt\n",
    "fig,ax=plt.subplots(figsize=(12,8),facecolor='w')\n",
    "plt.plot(x,y,linestyle='',marker='o',markersize=6)\n",
    "plt.grid()\n",
    "plt.show()"
   ]
  },
  {
   "cell_type": "markdown",
   "metadata": {},
   "source": [
    "### Pytorch `Module`: your ML algorithm\n",
    "Before optimizing an algorithm, we have to design one! In Pytorch, your ML algorithm is implemented as a `torch.nn.Module` type object. Below we define a very simple module that performs a linear transformation `y=ax+b` using `torch.nn.Linear` module. \n",
    "\n",
    "`torch.nn.Linear` module can take $k$-dimensional inout and perform a linear transformation to produce $\\ell$-dimensional output.\n",
    "$$\n",
    "\\hat{y}_{\\ell,1} = a_{\\ell,k}\\cdot x_{k,1} + b_{\\ell,1}\n",
    "$$\n",
    "where $a_{\\ell,k}$ and $b_{\\ell,1}$ are trainable weights. In our simple case, both $k$ and $\\ell$ are scalars."
   ]
  },
  {
   "cell_type": "code",
   "execution_count": 7,
   "metadata": {},
   "outputs": [],
   "source": [
    "class LinearRegression(torch.nn.Module):\n",
    "    \n",
    "    def __init__(self):\n",
    "        \n",
    "        super(LinearRegression, self).__init__()\n",
    "        \n",
    "        # Construct a linear layer with 1 input (i.e. x) and 1 output (i.e. prediction of y)\n",
    "        # bias=True adds the constant term \"b\" of \"y=ax+b\".\n",
    "        self.linear = torch.nn.Linear(in_features  = 1,\n",
    "                                      out_features = 1, \n",
    "                                      bias = True)\n",
    "    \n",
    "    def forward(self,x):\n",
    "        return self.linear(x)"
   ]
  },
  {
   "cell_type": "markdown",
   "metadata": {},
   "source": [
    "The next step is to instantiate (create) the algorithm for training + two more steps:\n",
    "* Define the MSE error (`torch.nn.MSELoss`)\n",
    "* Instantiate the gradient descent optimizer"
   ]
  },
  {
   "cell_type": "code",
   "execution_count": 8,
   "metadata": {},
   "outputs": [],
   "source": [
    "# Instantiate the algorithm\n",
    "model = LinearRegression()\n",
    "\n",
    "# Define the loss: MSE\n",
    "criterion = torch.nn.MSELoss() \n",
    "\n",
    "# Create an optimizer which takes care of the weight update size etc.\n",
    "optimizer = torch.optim.SGD(model.parameters(), lr=0.001)"
   ]
  },
  {
   "cell_type": "markdown",
   "metadata": {},
   "source": [
    "The next cell shows the train loop = how to use those practically"
   ]
  },
  {
   "cell_type": "code",
   "execution_count": 9,
   "metadata": {},
   "outputs": [],
   "source": [
    "# first, prep data in Tensor\n",
    "x=torch.Tensor(x)\n",
    "y=torch.Tensor(y)\n",
    "\n",
    "# run 50 iterations\n",
    "ITERATIONS = 50\n",
    "\n",
    "losses = []\n",
    "for step in range(ITERATIONS):\n",
    "    \n",
    "    # Initialize the gradient\n",
    "    optimizer.zero_grad()\n",
    "    \n",
    "    # Let the model predict: note x.view(-1,1) reshapes (k) to (k,1) array\n",
    "    prediction = model(x.view(-1,1))\n",
    "\n",
    "    # Compute the error = loss: we reshape the output (l,1) to (l)\n",
    "    loss = criterion(prediction.view(-1), y)\n",
    "    \n",
    "    losses.append(loss.item())\n",
    "\n",
    "    # Now propagate the gradient for what is in the process history!\n",
    "    loss.backward()\n",
    "\n",
    "    # Update the weights\n",
    "    optimizer.step()"
   ]
  },
  {
   "cell_type": "markdown",
   "metadata": {},
   "source": [
    "Optimized? Let's visualize the loss curve:"
   ]
  },
  {
   "cell_type": "code",
   "execution_count": 10,
   "metadata": {},
   "outputs": [
    {
     "data": {
      "image/png": "[encoded data removed]",
      "text/plain": [
       "<Figure size 864x576 with 1 Axes>"
      ]
     },
     "metadata": {},
     "output_type": "display_data"
    }
   ],
   "source": [
    "# Plot\n",
    "fig,ax = plt.subplots(figsize=(12,8),facecolor='w')\n",
    "plt.xlabel('Iterations')\n",
    "plt.ylabel('Loss')\n",
    "plt.plot(losses,marker='o',markersize=10)\n",
    "plt.show()"
   ]
  },
  {
   "cell_type": "markdown",
   "metadata": {},
   "source": [
    "## Saving and Retrieving the algorithm parameters\n",
    "Once you train the network, you might want to save the trained parameters. Below we try this exercise.\n",
    "\n",
    "First, let's take a look at the current parameters. "
   ]
  },
  {
   "cell_type": "code",
   "execution_count": 11,
   "metadata": {},
   "outputs": [
    {
     "name": "stdout",
     "output_type": "stream",
     "text": [
      "linear.weight tensor([[1.5349]])\n",
      "linear.bias tensor([0.0940])\n"
     ]
    }
   ],
   "source": [
    "for name,param in model.named_parameters():\n",
    "    print(name, param.data)"
   ]
  },
  {
   "cell_type": "markdown",
   "metadata": {},
   "source": [
    "`linear.weight` and `linear.bias` are the $a$ and $b$ of the linear transformation $y=ax+b$! Let's save these parameter values in a file named `weights.ckpt`."
   ]
  },
  {
   "cell_type": "code",
   "execution_count": 12,
   "metadata": {},
   "outputs": [],
   "source": [
    "torch.save(dict(state_dict = model.state_dict()), 'weights.ckpt')"
   ]
  },
  {
   "cell_type": "markdown",
   "metadata": {},
   "source": [
    "Do you see `weights.ckpt` created? Next, let's create a brand-new algorithm with initialized parameter values. We call this `new_model`."
   ]
  },
  {
   "cell_type": "code",
   "execution_count": 13,
   "metadata": {},
   "outputs": [
    {
     "name": "stdout",
     "output_type": "stream",
     "text": [
      "linear.weight tensor([[-0.2415]])\n",
      "linear.bias tensor([-0.6409])\n"
     ]
    }
   ],
   "source": [
    "new_model = LinearRegression()\n",
    "for name,param in new_model.named_parameters():\n",
    "    print(name, param.data)"
   ]
  },
  {
   "cell_type": "markdown",
   "metadata": {},
   "source": [
    "... yep the initial parameter values are far from the actual values. Let's load the parameter values from `weights.ckpt`."
   ]
  },
  {
   "cell_type": "code",
   "execution_count": 14,
   "metadata": {},
   "outputs": [
    {
     "name": "stdout",
     "output_type": "stream",
     "text": [
      "linear.weight tensor([[1.5349]])\n",
      "linear.bias tensor([0.0940])\n"
     ]
    }
   ],
   "source": [
    "with open('weights.ckpt', 'rb') as f:\n",
    "    data = torch.load(f)\n",
    "    new_model.load_state_dict(data['state_dict'])\n",
    "    \n",
    "for name,param in new_model.named_parameters():\n",
    "    print(name, param.data)"
   ]
  },
  {
   "cell_type": "markdown",
   "metadata": {},
   "source": [
    "## Closing\n",
    "In this notebook we played with `torch.Tensor` which is a Pytorch version of `np.ndarray`, and also practiced a primitive algorithm optimization workflow in Pytorch. In the next notebook we will try a logistic regression using Pytorch."
   ]
  }
 ],
 "metadata": {
  "kernelspec": {
   "display_name": "Python 3",
   "language": "python",
   "name": "python3"
  },
  "language_info": {
   "codemirror_mode": {
    "name": "ipython",
    "version": 3
   },
   "file_extension": ".py",
   "mimetype": "text/x-python",
   "name": "python",
   "nbconvert_exporter": "python",
   "pygments_lexer": "ipython3",
   "version": "3.6.9"
  }
 },
 "nbformat": 4,
 "nbformat_minor": 4
}
